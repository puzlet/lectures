{
 "cells": [
  {
   "cell_type": "markdown",
   "metadata": {},
   "source": [
    "# Complex Numbers, bridge example\n",
    "\n",
    "Martin Clark and Gary Ballantyne\n",
    "May 2016\n",
    "\n",
    "[This web page is currently under development.]\n",
    "\n",
    "Complex numbers often appear in engineering; the suspension of a car, the electronics in a phone, skyscrapers and bridges all use complex numbers in their design. However, the most important (and interesting) examples are advanced—so, when you start learning about complex numbers it can appear that they have little practical use.\n",
    "\n",
    "Here we show the role complex numbers play in the self-destruction of a bridge (i.e., a failure of design). Although it is an advanced example, we only assume you know about differentiation. Some details we will hurry past, and other important aspects we will not even glance at. Nevertheless, it will give you a taste of the place of complex numbers in actual engineering.\n",
    "\n",
    "Differentiation is about change, and systems that change with time are known as dynamic systems (for example, a car's suspension when it hits a bump). Dynamic systems are described by differential equations—that is, an equation involving differentials of some quantity (say $y$). Just for example, consider\n",
    "\n",
    "$$ \\frac{dy}{dt}+y=0 $$\n",
    "\n",
    "It's worth pausing to think just what this equation says. There is a function of time, $y=y(t)$; we don't know what it is (but we'd like to); we only know that the sum of the function and its first derivative is zero. Most often we get equations like this from the underlying physics (or chemistry, or whatever)—we get clues, but not the solution.\n",
    "\n",
    "Typically a solution to the differential equations you'll encounter (including the one above) is\n",
    "\n",
    "$$ y=e^{st} $$\n",
    "where $s=\\sigma+i\\omega$ is a complex number that we have to (somehow) find. For example, say $s=-1+i0$. (OK, this is not truly complex ... but hang in there.) Then, substituting into the differential equations gives\n",
    "\n",
    "$$ \\begin{eqnarray} \\frac{dy}{dt}+y &=& se^{st}+e^{st} \\nonumber \\\\ &=& -1e^{-t}+e^{t} \\nonumber \\\\ &=& 0 \\end{eqnarray} $$\n",
    "In other words, $y=e^{st}$, with $s=-1$ is $y=e^{-t}$, which is a solution to the differential equation above.\n",
    "\n",
    "Before we consider a differential equation that requires a genuinely complex $s$, let's first consider what $y=e^{st}$ looks like. Substituting $s=\\sigma+i\\omega$:\n",
    "\n",
    "$$ \\begin{eqnarray} y &=& e^{st} \\nonumber \\\\ &=& e^{(\\sigma+i\\omega)t} \\nonumber \\\\ &=& e^{\\sigma t + i\\omega t} \\nonumber \\\\ &=& e^{\\sigma t}e^{i\\omega t} \\nonumber \\end{eqnarray} $$\n",
    "So, $y=e^{st}$ is the product of two exponentials—one real, and one complex. We know how the complex exponential ($e^{i\\omega t}$) behaves from an earlier lecture . Recall that $e^{i\\theta}$ is a point in the complex plane at angle $\\theta$ and modulus (distance from the origin) of one—so $e^{i\\omega t}$ is a point whose angle ($\\omega t$) changes as time $t$ increases. In other words, $e^{i\\omega t}$ draws a circle in the complex plane.\n"
   ]
  },
  {
   "cell_type": "code",
   "execution_count": 1,
   "metadata": {
    "collapsed": false
   },
   "outputs": [
    {
     "data": {
      "image/png": "[encoded data removed]",
      "text/plain": [
       "<matplotlib.figure.Figure at 0xb05bf8ac>"
      ]
     },
     "metadata": {},
     "output_type": "display_data"
    },
    {
     "data": {
      "text/plain": [
       "<function __main__.pltsin>"
      ]
     },
     "execution_count": 1,
     "metadata": {},
     "output_type": "execute_result"
    }
   ],
   "source": [
    "%matplotlib inline\n",
    "import numpy as np\n",
    "from IPython.html.widgets import *\n",
    "import matplotlib.pyplot as plt\n",
    "\n",
    "def pltsin(th):\n",
    "    plt.plot(np.cos(th), np.sin(th), 'ro')\n",
    "    plt.xlim(-2, 2)\n",
    "    plt.ylim(-2, 2)\n",
    "    plt.show()\n",
    "\n",
    "interact(pltsin, th=(0, 2*np.pi, 0.1))"
   ]
  },
  {
   "cell_type": "code",
   "execution_count": 5,
   "metadata": {
    "collapsed": false
   },
   "outputs": [
    {
     "name": "stdout",
     "output_type": "stream",
     "text": [
      "[ 0.          0.33333333  0.66666667  1.        ]\n",
      "Stored 'xyz' (ndarray)\n"
     ]
    }
   ],
   "source": [
    "xyz = np.linspace(0, 1, 4)\n",
    "print xyz\n",
    "%store xyz"
   ]
  }
 ],
 "metadata": {
  "celltoolbar": "Raw Cell Format",
  "kernelspec": {
   "display_name": "Python 2",
   "language": "python",
   "name": "python2"
  },
  "language_info": {
   "codemirror_mode": {
    "name": "ipython",
    "version": 2
   },
   "file_extension": ".py",
   "mimetype": "text/x-python",
   "name": "python",
   "nbconvert_exporter": "python",
   "pygments_lexer": "ipython2",
   "version": "2.7.6"
  },
  "widgets": {
   "state": {
    "59592b4313634f9e8ad0b5676595ff66": {
     "views": []
    },
    "83a21e97214d4ea6a11d5557f5dc4f17": {
     "views": []
    },
    "de485ef5a2a44ff59bc67eb8682e15b4": {
     "views": [
      {
       "cell_index": 1
      }
     ]
    },
    "ee1a30fbee5d4d9b91153e5358378a7b": {
     "views": []
    }
   },
   "version": "1.1.2"
  }
 },
 "nbformat": 4,
 "nbformat_minor": 0
}
