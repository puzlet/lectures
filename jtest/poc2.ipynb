{
 "cells": [
  {
   "cell_type": "markdown",
   "metadata": {},
   "source": [
    "# Post processing\n",
    "\n",
    "Blab technology allows in-browser post-processing/interactivity of jupyter notebook data without a Juypyter server.\n"
   ]
  },
  {
   "cell_type": "markdown",
   "metadata": {},
   "source": [
    "## Resources\n",
    "\n",
    "Copy resources.coffee to a code node, marked by a %%resources magic (TBD)."
   ]
  },
  {
   "cell_type": "code",
   "execution_count": 64,
   "metadata": {
    "collapsed": false
   },
   "outputs": [
    {
     "name": "stderr",
     "output_type": "stream",
     "text": [
      "ERROR: Cell magic `%%resources` not found.\n"
     ]
    }
   ],
   "source": [
    "%%resources\n",
    "load: [\n",
    "    stuff\n",
    "]"
   ]
  },
  {
   "cell_type": "markdown",
   "metadata": {},
   "source": [
    "The resouces data is available from a Jupyter method:"
   ]
  },
  {
   "cell_type": "code",
   "execution_count": 65,
   "metadata": {
    "collapsed": false
   },
   "outputs": [
    {
     "data": {
      "application/javascript": [
       "element.text(Jupyter.notebook.get_cells()[2].element[0].innerText)"
      ],
      "text/plain": [
       "<IPython.core.display.Javascript object>"
      ]
     },
     "metadata": {},
     "output_type": "display_data"
    }
   ],
   "source": [
    "%%javascript\n",
    "element.text(Jupyter.notebook.get_cells()[2].element[0].innerText)"
   ]
  },
  {
   "cell_type": "markdown",
   "metadata": {},
   "source": [
    "As a proof-of-concept, it is possible to load js into an ordinary notebook:\n"
   ]
  },
  {
   "cell_type": "code",
   "execution_count": 66,
   "metadata": {
    "collapsed": false
   },
   "outputs": [
    {
     "data": {
      "text/html": [
       "<script src=\"lib/d3/d3.min.js\"></script>"
      ],
      "text/plain": [
       "<IPython.core.display.HTML object>"
      ]
     },
     "execution_count": 66,
     "metadata": {},
     "output_type": "execute_result"
    }
   ],
   "source": [
    "from IPython.core.display import HTML\n",
    "HTML('<script src=\"lib/d3/d3.min.js\"></script>')"
   ]
  },
  {
   "cell_type": "code",
   "execution_count": 67,
   "metadata": {
    "collapsed": false
   },
   "outputs": [
    {
     "data": {
      "text/html": [
       "\n",
       "<style scoped>\n",
       ".bedazzled {\n",
       "  color: orange;\n",
       "}\n",
       "</style>\n",
       "<div id=\"d3-div-1\"></div>\n",
       "<script>\n",
       "\n",
       "var size_data = [10,20,30];\n",
       "\n",
       "d3.select(\"#d3-div-1\").selectAll('.bedazzled')\n",
       "    .data(size_data)\n",
       "    .enter().append('p')\n",
       "      .attr(\"class\",\"bedazzled\")\n",
       "      .style(\"font-size\", function(d){ return \"\" + d + \"px\";})\n",
       "      .text(\"Hello D3!\");\n",
       "\n",
       "</script>\n"
      ],
      "text/plain": [
       "<IPython.core.display.HTML object>"
      ]
     },
     "execution_count": 67,
     "metadata": {},
     "output_type": "execute_result"
    }
   ],
   "source": [
    "HTML('''\n",
    "<style scoped>\n",
    ".bedazzled {\n",
    "  color: orange;\n",
    "}\n",
    "</style>\n",
    "<div id=\"d3-div-1\"></div>\n",
    "<script>\n",
    "\n",
    "var size_data = [10,20,30];\n",
    "\n",
    "d3.select(\"#d3-div-1\").selectAll('.bedazzled')\n",
    "    .data(size_data)\n",
    "    .enter().append('p')\n",
    "      .attr(\"class\",\"bedazzled\")\n",
    "      .style(\"font-size\", function(d){ return \"\" + d + \"px\";})\n",
    "      .text(\"Hello D3!\");\n",
    "\n",
    "</script>\n",
    "''')"
   ]
  },
  {
   "cell_type": "markdown",
   "metadata": {},
   "source": [
    "## Widgets\n",
    "\n",
    "Similarly, the objects from ui.coffee can be distributed code nodes (i.e., placed where the widget is to appear), and marked by a %%ui magic. The widget is placed in the output of this cell."
   ]
  },
  {
   "cell_type": "code",
   "execution_count": 68,
   "metadata": {
    "collapsed": false
   },
   "outputs": [
    {
     "name": "stderr",
     "output_type": "stream",
     "text": [
      "ERROR: Cell magic `%%ui` not found.\n"
     ]
    }
   ],
   "source": [
    "%%ui\n",
    "slider_quad = new Slider                                                                                           \n",
    "  container: $(\"#lecture-slider-quad\")                                                                             \n",
    "  prompt: \"$\\\\zeta$\"                                                                                               \n",
    "  unit: null                                                                                                       \n",
    "  init: 0                                                                                                          \n",
    "  min: -0.95                                                                                                       \n",
    "  max: 0.95                                                                                                        \n",
    "  step: 0.05     "
   ]
  },
  {
   "cell_type": "markdown",
   "metadata": {},
   "source": [
    "## Computation\n",
    "\n",
    "The code from compute.coffee is distributed in code cells under a %%compute magic:"
   ]
  },
  {
   "cell_type": "code",
   "execution_count": 69,
   "metadata": {
    "collapsed": false
   },
   "outputs": [
    {
     "name": "stderr",
     "output_type": "stream",
     "text": [
      "ERROR: Cell magic `%%compute` not found.\n"
     ]
    }
   ],
   "source": [
    "%%compute\n",
    "zeta_quad = slider_quad()                                                                                          \n",
    "sr = linspace -5, 5, 50                                                                                            \n",
    "q = sr.pow(2) + 2*zeta_quad*sr + 1                                                                                 "
   ]
  },
  {
   "cell_type": "markdown",
   "metadata": {},
   "source": [
    "## Data\n",
    "\n",
    "Data is loaded from a file, generated from the Jupyter kernel (see Preprocessing below).\n"
   ]
  },
  {
   "cell_type": "code",
   "execution_count": 70,
   "metadata": {
    "collapsed": false
   },
   "outputs": [
    {
     "data": {
      "application/javascript": [
       "$.get( \"data.txt\", function( data ) {\n",
       "element.text( \"Data Loaded: \" + data );\n",
       "});"
      ],
      "text/plain": [
       "<IPython.core.display.Javascript object>"
      ]
     },
     "metadata": {},
     "output_type": "display_data"
    }
   ],
   "source": [
    "%%javascript\n",
    "$.get( \"data.txt\", function( data ) {\n",
    "element.text( \"Data Loaded: \" + data );\n",
    "});"
   ]
  },
  {
   "cell_type": "markdown",
   "metadata": {},
   "source": [
    "# Preprocessing\n",
    "\n",
    "Data to be post-processed is first generated with python (or another Jupyter kernel).\n"
   ]
  },
  {
   "cell_type": "code",
   "execution_count": 71,
   "metadata": {
    "collapsed": true
   },
   "outputs": [],
   "source": [
    "import numpy as np\n",
    "data = np.arange(0, 10, 1, dtype=np.uint8).reshape((2, 5))"
   ]
  },
  {
   "cell_type": "markdown",
   "metadata": {},
   "source": [
    "Data is saved to a file that will be downloaded to the reader's browser (along with an html version of this file). For example, here we convert the numpy array to JSON:."
   ]
  },
  {
   "cell_type": "code",
   "execution_count": 72,
   "metadata": {
    "collapsed": false
   },
   "outputs": [],
   "source": [
    "import json_tricks.np as jt # pip install json_tricks\n",
    "with open('data.txt', 'w') as outfile:\n",
    "    outfile.write(jt.dumps({'mydata': data}))"
   ]
  },
  {
   "cell_type": "markdown",
   "metadata": {},
   "source": [
    "# Publishing\n",
    "\n",
    "For publishing, this ipynb file is converted to html using nbconvert (probably using a modified template).\n"
   ]
  },
  {
   "cell_type": "markdown",
   "metadata": {},
   "source": [
    "---------"
   ]
  },
  {
   "cell_type": "markdown",
   "metadata": {},
   "source": [
    "-----------"
   ]
  }
 ],
 "metadata": {
  "kernelspec": {
   "display_name": "Python 2",
   "language": "python",
   "name": "python2"
  },
  "language_info": {
   "codemirror_mode": {
    "name": "ipython",
    "version": 2
   },
   "file_extension": ".py",
   "mimetype": "text/x-python",
   "name": "python",
   "nbconvert_exporter": "python",
   "pygments_lexer": "ipython2",
   "version": "2.7.6"
  },
  "widgets": {
   "state": {},
   "version": "1.1.2"
  }
 },
 "nbformat": 4,
 "nbformat_minor": 0
}
