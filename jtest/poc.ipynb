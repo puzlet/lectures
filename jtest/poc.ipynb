{
 "cells": [
  {
   "cell_type": "markdown",
   "metadata": {},
   "source": [
    "First some computation in python&mdash; a \"writer\" generates data to be manipulated and inspected by a user without access to the Jupyter kernel (a \"reader\")."
   ]
  },
  {
   "cell_type": "code",
   "execution_count": 1,
   "metadata": {
    "collapsed": false
   },
   "outputs": [],
   "source": [
    "import numpy as np\n",
    "data = np.arange(0, 10, 1, dtype=np.uint8).reshape((2, 5))"
   ]
  },
  {
   "cell_type": "markdown",
   "metadata": {},
   "source": [
    "The data is saved to a file that will be downloaded to the reader's browser (along with an html version of this file). For example, here we convert the numpy array to JSON:."
   ]
  },
  {
   "cell_type": "code",
   "execution_count": 2,
   "metadata": {
    "collapsed": false
   },
   "outputs": [],
   "source": [
    "import json_tricks.np as jt # pip install json_tricks\n",
    "with open('data.txt', 'w') as outfile:\n",
    "    outfile.write(jt.dumps({'mydata': data}))"
   ]
  },
  {
   "cell_type": "markdown",
   "metadata": {},
   "source": [
    "The contents of the file data.txt is:"
   ]
  },
  {
   "cell_type": "code",
   "execution_count": 3,
   "metadata": {
    "collapsed": false
   },
   "outputs": [
    {
     "name": "stdout",
     "output_type": "stream",
     "text": [
      "{\"mydata\": {\"dtype\": \"uint8\", \"shape\": [2, 5], \"__ndarray__\": [[0, 1, 2, 3, 4], [5, 6, 7, 8, 9]]}}\n"
     ]
    }
   ],
   "source": [
    "print jt.dumps({'mydata': data})"
   ]
  },
  {
   "cell_type": "markdown",
   "metadata": {},
   "source": [
    "The writer can access the saved data (for blab-type manipulation):\n"
   ]
  },
  {
   "cell_type": "code",
   "execution_count": 4,
   "metadata": {
    "collapsed": false
   },
   "outputs": [
    {
     "data": {
      "application/javascript": [
       "var x = 0;\n",
       "$.get( \"data.txt\", function( data ) {\n",
       "alert( \"Data Loaded: \" + data );\n",
       "x = data;\n",
       "});\n",
       "alert(x);"
      ],
      "text/plain": [
       "<IPython.core.display.Javascript object>"
      ]
     },
     "metadata": {},
     "output_type": "display_data"
    }
   ],
   "source": [
    "%%javascript\n",
    "var x = 0;\n",
    "$.get( \"data.txt\", function( data ) {\n",
    "alert( \"Data Loaded: \" + data );\n",
    "x = data;\n",
    "});\n",
    "alert(x);"
   ]
  },
  {
   "cell_type": "markdown",
   "metadata": {},
   "source": [
    "The above works for the writer (with full access to Jupyter), but not sure what the best approach is for the reader. I *think* we'd need to customize nbconvert to generate the appropriate html. "
   ]
  },
  {
   "cell_type": "code",
   "execution_count": 5,
   "metadata": {
    "collapsed": false
   },
   "outputs": [
    {
     "data": {
      "text/html": [
       "\n",
       "\n",
       "<script src=\"../../math/puzlet-math.js\"></script>\n",
       "<script src=\"../../../puzlet/puzlet/js/render.js\"></script>\n",
       "<script src=\"../../blab/css/widgets.css\"></script>\n",
       "<script src=\"../../blab/js/components.js\"></script>\n",
       "<script src=\"\"../js/lecture.js\"\"></script>\n",
       " \n",
       "\n",
       "<div id='outer-container'>                                                                                         \n",
       "<div id='container'>                                                                                               \n",
       "                                                                                                                   \n",
       "<h1>Complex Numbers, bridge example</h1>                                                                           \n",
       "                                                                                                                  \n",
       "<div class='box-1-1'> \n",
       "<div id='lecture-slider-t'></div> \n",
       "<div id='lecture-plot-w'></div>\n",
       "</div>\n",
       "\n",
       "</div>\n",
       "</div>\n",
       "\n",
       "<script src=\"../js/vendor.js\"></script>\n",
       "<script src='../../puzlet/js/puzlet.js' data-puzlet data-resources='resources.coffee'></script>\n",
       "\n"
      ],
      "text/plain": [
       "<IPython.core.display.HTML object>"
      ]
     },
     "execution_count": 5,
     "metadata": {},
     "output_type": "execute_result"
    }
   ],
   "source": [
    "from IPython.core.display import HTML\n",
    "HTML('''\n",
    "\n",
    "<script src=\"../../math/puzlet-math.js\"></script>\n",
    "<script src=\"../../../puzlet/puzlet/js/render.js\"></script>\n",
    "<script src=\"../../blab/css/widgets.css\"></script>\n",
    "<script src=\"../../blab/js/components.js\"></script>\n",
    "<script src=\"\"../js/lecture.js\"\"></script>\n",
    " \n",
    "\n",
    "<div id='outer-container'>                                                                                         \n",
    "<div id='container'>                                                                                               \n",
    "                                                                                                                   \n",
    "<h1>Complex Numbers, bridge example</h1>                                                                           \n",
    "                                                                                                                  \n",
    "<div class='box-1-1'> \n",
    "<div id='lecture-slider-t'></div> \n",
    "<div id='lecture-plot-w'></div>\n",
    "</div>\n",
    "\n",
    "</div>\n",
    "</div>\n",
    "\n",
    "<script src=\"../js/vendor.js\"></script>\n",
    "<script src='../../puzlet/js/puzlet.js' data-puzlet data-resources='resources.coffee'></script>\n",
    "\n",
    "''')\n"
   ]
  }
 ],
 "metadata": {
  "kernelspec": {
   "display_name": "Python 2",
   "language": "python",
   "name": "python2"
  },
  "language_info": {
   "codemirror_mode": {
    "name": "ipython",
    "version": 2
   },
   "file_extension": ".py",
   "mimetype": "text/x-python",
   "name": "python",
   "nbconvert_exporter": "python",
   "pygments_lexer": "ipython2",
   "version": "2.7.6"
  },
  "widgets": {
   "state": {},
   "version": "1.1.2"
  }
 },
 "nbformat": 4,
 "nbformat_minor": 0
}
